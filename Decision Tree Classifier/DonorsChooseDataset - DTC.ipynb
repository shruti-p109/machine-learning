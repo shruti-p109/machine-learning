{
 "cells": [
  {
   "cell_type": "markdown",
   "id": "0637667e",
   "metadata": {},
   "source": [
    "<b>Problem Statement<b>"
   ]
  },
  {
   "cell_type": "markdown",
   "id": "0cf09a4e",
   "metadata": {},
   "source": [
    "DonorsChoose.org receives hundreds of thousands of project proposals each year for classroom projects in need of funding. The objective is to predict whether or not a DonorsChoose.org\n",
    "project proposal submitted by a teacher will be approved, using the text of project descriptions as well as additional metadata about the project, teacher, and school.<br><br>"
   ]
  },
  {
   "cell_type": "code",
   "execution_count": 1,
   "id": "cccd9454",
   "metadata": {},
   "outputs": [],
   "source": [
    "import pandas as pd\n",
    "import matplotlib.pyplot as plt\n",
    "import numpy as np\n",
    "import seaborn as sns\n",
    "from sklearn.model_selection import train_test_split\n",
    "from sklearn.feature_extraction.text import CountVectorizer, TfidfVectorizer\n",
    "from sklearn.preprocessing import MinMaxScaler\n",
    "from scipy.sparse import hstack\n",
    "from sklearn.model_selection import GridSearchCV\n",
    "from sklearn.tree import DecisionTreeClassifier\n",
    "from sklearn.metrics import confusion_matrix\n",
    "from sklearn.metrics import roc_curve, auc, accuracy_score\n",
    "from prettytable import PrettyTable"
   ]
  },
  {
   "cell_type": "markdown",
   "id": "8bdde438",
   "metadata": {},
   "source": [
    "<b>Note: If you do not have prettytable module install it first by :\n",
    "pip install PrettyTable<b>"
   ]
  },
  {
   "cell_type": "code",
   "execution_count": 2,
   "id": "e01e429e",
   "metadata": {},
   "outputs": [],
   "source": [
    "df = pd.read_csv('Preprocessed_DonorsChoose_dataset.csv')"
   ]
  },
  {
   "cell_type": "code",
   "execution_count": 3,
   "id": "21a88b16",
   "metadata": {
    "scrolled": true
   },
   "outputs": [
    {
     "data": {
      "text/html": [
       "<div>\n",
       "<style scoped>\n",
       "    .dataframe tbody tr th:only-of-type {\n",
       "        vertical-align: middle;\n",
       "    }\n",
       "\n",
       "    .dataframe tbody tr th {\n",
       "        vertical-align: top;\n",
       "    }\n",
       "\n",
       "    .dataframe thead th {\n",
       "        text-align: right;\n",
       "    }\n",
       "</style>\n",
       "<table border=\"1\" class=\"dataframe\">\n",
       "  <thead>\n",
       "    <tr style=\"text-align: right;\">\n",
       "      <th></th>\n",
       "      <th>id</th>\n",
       "      <th>teacher_prefix</th>\n",
       "      <th>school_state</th>\n",
       "      <th>project_grade_category</th>\n",
       "      <th>project_subject_categories</th>\n",
       "      <th>project_subject_subcategories</th>\n",
       "      <th>teacher_number_of_previously_posted_projects</th>\n",
       "      <th>project_is_approved</th>\n",
       "      <th>price</th>\n",
       "      <th>quantity</th>\n",
       "      <th>cleaned_titles</th>\n",
       "      <th>cleaned_essays</th>\n",
       "      <th>cleaned_summary</th>\n",
       "      <th>isdigit_summary</th>\n",
       "    </tr>\n",
       "  </thead>\n",
       "  <tbody>\n",
       "    <tr>\n",
       "      <th>0</th>\n",
       "      <td>p253737</td>\n",
       "      <td>mrs</td>\n",
       "      <td>in</td>\n",
       "      <td>grades_prek_2</td>\n",
       "      <td>literacy_language</td>\n",
       "      <td>esl_literacy</td>\n",
       "      <td>0</td>\n",
       "      <td>0</td>\n",
       "      <td>154.60</td>\n",
       "      <td>23</td>\n",
       "      <td>educational support english learners home</td>\n",
       "      <td>students english learners working english seco...</td>\n",
       "      <td>students_need_opportunities_practice_beginning...</td>\n",
       "      <td>0</td>\n",
       "    </tr>\n",
       "    <tr>\n",
       "      <th>1</th>\n",
       "      <td>p258326</td>\n",
       "      <td>mr</td>\n",
       "      <td>fl</td>\n",
       "      <td>grades_6_8</td>\n",
       "      <td>history_civics_health_sports</td>\n",
       "      <td>civics_government_teamsports</td>\n",
       "      <td>7</td>\n",
       "      <td>1</td>\n",
       "      <td>299.00</td>\n",
       "      <td>1</td>\n",
       "      <td>wanted projector hungry learners</td>\n",
       "      <td>students arrive school eager learn polite gene...</td>\n",
       "      <td>students_need_projector_help_viewing_education...</td>\n",
       "      <td>0</td>\n",
       "    </tr>\n",
       "    <tr>\n",
       "      <th>2</th>\n",
       "      <td>p182444</td>\n",
       "      <td>ms</td>\n",
       "      <td>az</td>\n",
       "      <td>grades_6_8</td>\n",
       "      <td>health_sports</td>\n",
       "      <td>health_wellness_teamsports</td>\n",
       "      <td>1</td>\n",
       "      <td>0</td>\n",
       "      <td>516.85</td>\n",
       "      <td>22</td>\n",
       "      <td>soccer equipment awesome middle school students</td>\n",
       "      <td>true champions not always ones win guts mia ha...</td>\n",
       "      <td>students_need_shine_guards_athletic_socks_socc...</td>\n",
       "      <td>0</td>\n",
       "    </tr>\n",
       "  </tbody>\n",
       "</table>\n",
       "</div>"
      ],
      "text/plain": [
       "        id teacher_prefix school_state project_grade_category  \\\n",
       "0  p253737            mrs           in          grades_prek_2   \n",
       "1  p258326             mr           fl             grades_6_8   \n",
       "2  p182444             ms           az             grades_6_8   \n",
       "\n",
       "     project_subject_categories project_subject_subcategories  \\\n",
       "0             literacy_language                  esl_literacy   \n",
       "1  history_civics_health_sports  civics_government_teamsports   \n",
       "2                 health_sports    health_wellness_teamsports   \n",
       "\n",
       "   teacher_number_of_previously_posted_projects  project_is_approved   price  \\\n",
       "0                                             0                    0  154.60   \n",
       "1                                             7                    1  299.00   \n",
       "2                                             1                    0  516.85   \n",
       "\n",
       "   quantity                                   cleaned_titles  \\\n",
       "0        23        educational support english learners home   \n",
       "1         1                 wanted projector hungry learners   \n",
       "2        22  soccer equipment awesome middle school students   \n",
       "\n",
       "                                      cleaned_essays  \\\n",
       "0  students english learners working english seco...   \n",
       "1  students arrive school eager learn polite gene...   \n",
       "2  true champions not always ones win guts mia ha...   \n",
       "\n",
       "                                     cleaned_summary  isdigit_summary  \n",
       "0  students_need_opportunities_practice_beginning...                0  \n",
       "1  students_need_projector_help_viewing_education...                0  \n",
       "2  students_need_shine_guards_athletic_socks_socc...                0  "
      ]
     },
     "execution_count": 3,
     "metadata": {},
     "output_type": "execute_result"
    }
   ],
   "source": [
    "df.head(3)"
   ]
  },
  {
   "cell_type": "code",
   "execution_count": 4,
   "id": "966a7ead",
   "metadata": {},
   "outputs": [
    {
     "data": {
      "text/plain": [
       "id                                               0\n",
       "teacher_prefix                                   0\n",
       "school_state                                     0\n",
       "project_grade_category                           0\n",
       "project_subject_categories                       0\n",
       "project_subject_subcategories                    0\n",
       "teacher_number_of_previously_posted_projects     0\n",
       "project_is_approved                              0\n",
       "price                                            0\n",
       "quantity                                         0\n",
       "cleaned_titles                                  43\n",
       "cleaned_essays                                   0\n",
       "cleaned_summary                                  0\n",
       "isdigit_summary                                  0\n",
       "dtype: int64"
      ]
     },
     "execution_count": 4,
     "metadata": {},
     "output_type": "execute_result"
    }
   ],
   "source": [
    "df.isnull().sum()"
   ]
  },
  {
   "cell_type": "code",
   "execution_count": 5,
   "id": "5235d50f",
   "metadata": {},
   "outputs": [
    {
     "data": {
      "text/plain": [
       "(109248, 14)"
      ]
     },
     "execution_count": 5,
     "metadata": {},
     "output_type": "execute_result"
    }
   ],
   "source": [
    "df.shape"
   ]
  },
  {
   "cell_type": "markdown",
   "id": "299f64f3",
   "metadata": {},
   "source": [
    "Since we have sufficient no. of data, droping 43 rows with null values for cleaned_titles"
   ]
  },
  {
   "cell_type": "code",
   "execution_count": 6,
   "id": "08017d5b",
   "metadata": {},
   "outputs": [],
   "source": [
    "df = df.dropna()"
   ]
  },
  {
   "cell_type": "code",
   "execution_count": 7,
   "id": "ebb03635",
   "metadata": {},
   "outputs": [
    {
     "data": {
      "text/plain": [
       "(109205, 14)"
      ]
     },
     "execution_count": 7,
     "metadata": {},
     "output_type": "execute_result"
    }
   ],
   "source": [
    "df.shape"
   ]
  },
  {
   "cell_type": "code",
   "execution_count": 8,
   "id": "ed89046c",
   "metadata": {},
   "outputs": [
    {
     "data": {
      "text/plain": [
       "id                                              109205\n",
       "teacher_prefix                                       5\n",
       "school_state                                        51\n",
       "project_grade_category                               4\n",
       "project_subject_categories                          51\n",
       "project_subject_subcategories                      401\n",
       "teacher_number_of_previously_posted_projects       374\n",
       "project_is_approved                                  2\n",
       "price                                            45231\n",
       "quantity                                           332\n",
       "cleaned_titles                                   91442\n",
       "cleaned_essays                                  108272\n",
       "cleaned_summary                                 107844\n",
       "isdigit_summary                                      2\n",
       "dtype: int64"
      ]
     },
     "execution_count": 8,
     "metadata": {},
     "output_type": "execute_result"
    }
   ],
   "source": [
    "df.nunique()"
   ]
  },
  {
   "cell_type": "markdown",
   "id": "9b2fce11",
   "metadata": {},
   "source": [
    "<b>Analysis of teacher_prefix w.r.t % projects approved<b>"
   ]
  },
  {
   "cell_type": "code",
   "execution_count": 12,
   "id": "70017433",
   "metadata": {},
   "outputs": [],
   "source": [
    "teacher_approved_count = df.loc[df['project_is_approved']==1,'teacher_prefix'].value_counts()\n",
    "teacher_approved_count_percent = np.round((teacher_approved_count / teacher_approved_count.sum() * 100) , 2)"
   ]
  },
  {
   "cell_type": "code",
   "execution_count": 13,
   "id": "a081006b",
   "metadata": {},
   "outputs": [
    {
     "data": {
      "image/png": "[encoded data removed]",
      "text/plain": [
       "<Figure size 432x288 with 1 Axes>"
      ]
     },
     "metadata": {
      "needs_background": "light"
     },
     "output_type": "display_data"
    }
   ],
   "source": [
    "project_ticks_teacher = [f\"{a}%\" for a in teacher_approved_count_percent.values]\n",
    "fig, ax = plt.subplots()\n",
    "g=ax.bar(teacher_approved_count_percent.index, teacher_approved_count_percent.values)\n",
    "ax.set_xlabel(\"% Projects Approved\")\n",
    "ax.set_ylabel(\"Teacher Prefix\")\n",
    "ax.set_title(\"% Projects Approved w.r.t Teacher Prefix\")\n",
    "ax.bar_label(g, labels=project_ticks_teacher)\n",
    "plt.show()"
   ]
  },
  {
   "cell_type": "markdown",
   "id": "2b71bdfa",
   "metadata": {},
   "source": [
    "Observation: Close to 90% of approved projects have lady teacher while all remaining prefixes consist fo about 10% approved projects."
   ]
  },
  {
   "cell_type": "markdown",
   "id": "0f97d87e",
   "metadata": {},
   "source": [
    "<b>Analysis of school_state w.r.t % projects approved<b>"
   ]
  },
  {
   "cell_type": "code",
   "execution_count": 14,
   "id": "a130ed00",
   "metadata": {},
   "outputs": [],
   "source": [
    "school_state_approved_count = df.loc[df['project_is_approved']==1,'school_state'].value_counts()\n",
    "school_state_approved_count_percent = np.round((school_state_approved_count / school_state_approved_count.sum() * 100), 2)"
   ]
  },
  {
   "cell_type": "markdown",
   "id": "dec23445",
   "metadata": {},
   "source": [
    "<b style=\"color:red;\">Note : ax.bar_label - this is only available at higher version of matplotlib, 3.4.2 and above. Please Make sure you have it.<b>"
   ]
  },
  {
   "cell_type": "code",
   "execution_count": 18,
   "id": "4b61a8d5",
   "metadata": {},
   "outputs": [
    {
     "data": {
      "image/png": "[encoded data removed]",
      "text/plain": [
       "<Figure size 1296x1080 with 1 Axes>"
      ]
     },
     "metadata": {
      "needs_background": "light"
     },
     "output_type": "display_data"
    }
   ],
   "source": [
    "project_ticks_state = [f\"{a}%\" for a in school_state_approved_count_percent.values]\n",
    "fig, ax = plt.subplots(figsize=(18,15))\n",
    "g=ax.barh(school_state_approved_count_percent.index, school_state_approved_count_percent.values)\n",
    "ax.set_xlabel(\"% Projects Approved\", fontsize=12.5)\n",
    "ax.set_ylabel(\"School States\", fontsize=12.5)\n",
    "ax.set_title(\"% Project Approved w.r.t School State\", fontsize=12.5)\n",
    "ax.bar_label(g, labels=project_ticks_state, fontsize=12.5)\n",
    "plt.show()"
   ]
  },
  {
   "cell_type": "markdown",
   "id": "6753d32a",
   "metadata": {},
   "source": [
    "Observation: states from pa to ca (order as shown in graph) have most of the approved projects coming from, while remaining have more or less same/close to same number of approved projects with vt being lowest in them."
   ]
  },
  {
   "cell_type": "markdown",
   "id": "9471de8a",
   "metadata": {},
   "source": [
    "<b>Analysis of price w.r.t % projects approved<b>"
   ]
  },
  {
   "cell_type": "code",
   "execution_count": 19,
   "id": "92776ce4",
   "metadata": {},
   "outputs": [],
   "source": [
    "prices_for_approved = df.loc[df['project_is_approved']==1,'price']\n",
    "price_ranges_for_approved_count = pd.cut(\n",
    "    prices_for_approved,\n",
    "    bins = [0, 100, 200, 300, 400, 500, 600, 700, 800, 900, 1000, 10000],\n",
    "    labels=['0-100','100-200','200-300','300-400','400-500','500-600','600-700','700-800','800-900','900-1000','> 1000']\n",
    ").value_counts(sort=False)\n",
    "price_ranges_for_approved_count_percent = np.round((price_ranges_for_approved_count / price_ranges_for_approved_count.sum() * 100), 2)"
   ]
  },
  {
   "cell_type": "code",
   "execution_count": 20,
   "id": "a7c1b263",
   "metadata": {},
   "outputs": [
    {
     "data": {
      "image/png": "[encoded data removed]",
      "text/plain": [
       "<Figure size 936x720 with 1 Axes>"
      ]
     },
     "metadata": {
      "needs_background": "light"
     },
     "output_type": "display_data"
    }
   ],
   "source": [
    "project_ticks_price = [f\"{a}%\" for a in price_ranges_for_approved_count_percent.values]\n",
    "fig, ax = plt.subplots(figsize=(13,10))\n",
    "g=ax.bar(price_ranges_for_approved_count_percent.index, price_ranges_for_approved_count_percent.values)\n",
    "ax.set_ylabel(\"% Projects Approved\", fontsize=12.5)\n",
    "ax.set_xlabel(\"Project Price\", fontsize=12.5)\n",
    "ax.set_title(\"% Project Approved w.r.t Project Price\")\n",
    "ax.bar_label(g, labels=project_ticks_price, fontsize=12.5)\n",
    "plt.show()"
   ]
  },
  {
   "cell_type": "markdown",
   "id": "44d3fbf2",
   "metadata": {},
   "source": [
    "Observation: More than 60% of approved projects have prices below 300. About 3% lie between large range of 1000 & 10,000. Cheaper projects have better project approval rate based on only this analysis."
   ]
  },
  {
   "cell_type": "markdown",
   "id": "20df83d5",
   "metadata": {},
   "source": [
    "<b>Count Plot for % data distribution for each class<b>"
   ]
  },
  {
   "cell_type": "code",
   "execution_count": 21,
   "id": "188713e3",
   "metadata": {},
   "outputs": [
    {
     "data": {
      "image/png": "[encoded data removed]",
      "text/plain": [
       "<Figure size 432x288 with 1 Axes>"
      ]
     },
     "metadata": {
      "needs_background": "light"
     },
     "output_type": "display_data"
    }
   ],
   "source": [
    "# class frequency\n",
    "class_distribution_count = df['project_is_approved'].value_counts(sort=False)\n",
    "# calculate class distribution percentage from frequency\n",
    "class_distribution_percent = np.round((class_distribution_count / class_distribution_count.sum() * 100) , 2)\n",
    "# data labels\n",
    "distribution_percent_ticks = [f\"{a}%\" for a in class_distribution_percent.values]\n",
    "# plot class distrbution\n",
    "ax = sns.barplot(x=class_distribution_percent.index,y=class_distribution_percent.values)\n",
    "ax.bar_label(ax.containers[0], labels=distribution_percent_ticks)\n",
    "plt.show()"
   ]
  },
  {
   "cell_type": "markdown",
   "id": "570c22dd",
   "metadata": {},
   "source": [
    "Observation: There is high class imbalance biased towards 'Approved' (1) class."
   ]
  },
  {
   "cell_type": "markdown",
   "id": "b6eeb302",
   "metadata": {},
   "source": [
    "<b>Data Preparation<b>"
   ]
  },
  {
   "cell_type": "markdown",
   "id": "76e6d7da",
   "metadata": {},
   "source": [
    "Splitting data into test & train sets (Train:80, Test:20), stratifying split based on target variable"
   ]
  },
  {
   "cell_type": "code",
   "execution_count": 22,
   "id": "ee0d673d",
   "metadata": {},
   "outputs": [],
   "source": [
    "# features data\n",
    "x = df.iloc[:,:-1]\n",
    "# target var data\n",
    "y = df.project_is_approved\n",
    "x_train, x_test, y_train, y_test = train_test_split(x, y, test_size=0.33, random_state=5, stratify=y)"
   ]
  },
  {
   "cell_type": "code",
   "execution_count": 23,
   "id": "83ceef0f",
   "metadata": {},
   "outputs": [
    {
     "data": {
      "text/plain": [
       "(73167, 13)"
      ]
     },
     "execution_count": 23,
     "metadata": {},
     "output_type": "execute_result"
    }
   ],
   "source": [
    "x_train.shape"
   ]
  },
  {
   "cell_type": "code",
   "execution_count": 24,
   "id": "07e66a48",
   "metadata": {},
   "outputs": [
    {
     "data": {
      "text/plain": [
       "(36038, 13)"
      ]
     },
     "execution_count": 24,
     "metadata": {},
     "output_type": "execute_result"
    }
   ],
   "source": [
    "x_test.shape"
   ]
  },
  {
   "cell_type": "code",
   "execution_count": 25,
   "id": "17bd2db3",
   "metadata": {},
   "outputs": [
    {
     "data": {
      "text/plain": [
       "(73167,)"
      ]
     },
     "execution_count": 25,
     "metadata": {},
     "output_type": "execute_result"
    }
   ],
   "source": [
    "y_train.shape"
   ]
  },
  {
   "cell_type": "code",
   "execution_count": 26,
   "id": "d9d3242e",
   "metadata": {},
   "outputs": [
    {
     "data": {
      "text/plain": [
       "(36038,)"
      ]
     },
     "execution_count": 26,
     "metadata": {},
     "output_type": "execute_result"
    }
   ],
   "source": [
    "y_test.shape"
   ]
  },
  {
   "cell_type": "markdown",
   "id": "f7e4ff3b",
   "metadata": {},
   "source": [
    "<b>Vectorization of text columns<b>"
   ]
  },
  {
   "cell_type": "markdown",
   "id": "64393259",
   "metadata": {},
   "source": [
    "<b>Case 1 - Bag of Words Vectorization for cleaned_titles & cleaned_essays<b>"
   ]
  },
  {
   "cell_type": "markdown",
   "id": "be798c23",
   "metadata": {},
   "source": [
    "cleaned_essays"
   ]
  },
  {
   "cell_type": "code",
   "execution_count": 27,
   "id": "1ed60912",
   "metadata": {},
   "outputs": [
    {
     "name": "stdout",
     "output_type": "stream",
     "text": [
      "x_train_essays_bow (73167, 14121)\n",
      "x_test_essays_bow (36038, 14121)\n"
     ]
    }
   ],
   "source": [
    "# considering only the words which appeared in at least 10 rows / projects\n",
    "vectorizer_essays_bow = CountVectorizer(min_df=10)\n",
    "# vectorizer will be fit only on train data\n",
    "vectorizer_essays_bow.fit(x_train.cleaned_essays.values)\n",
    "# transfrom for test & train\n",
    "x_train_essays_bow = vectorizer_essays_bow.transform(x_train.cleaned_essays.values)\n",
    "x_test_essays_bow = vectorizer_essays_bow.transform(x_test.cleaned_essays.values)\n",
    "print('x_train_essays_bow', x_train_essays_bow.shape)\n",
    "print('x_test_essays_bow', x_test_essays_bow.shape)"
   ]
  },
  {
   "cell_type": "markdown",
   "id": "8bc76cbb",
   "metadata": {},
   "source": [
    "cleaned_titles"
   ]
  },
  {
   "cell_type": "code",
   "execution_count": 28,
   "id": "8ece9a15",
   "metadata": {},
   "outputs": [
    {
     "name": "stdout",
     "output_type": "stream",
     "text": [
      "x_train_titles_bow (73167, 2522)\n",
      "x_test_titles_bow (36038, 2522)\n"
     ]
    }
   ],
   "source": [
    "# considering only the words which appeared in at least 10 rows / projects\n",
    "vectorizer_titles_bow = CountVectorizer(min_df=10)\n",
    "# vectorizer will be fit only on train data\n",
    "vectorizer_titles_bow.fit(x_train.cleaned_titles.values)\n",
    "# transfrom for test & train\n",
    "x_train_titles_bow = vectorizer_titles_bow.transform(x_train.cleaned_titles.values)\n",
    "x_test_titles_bow = vectorizer_titles_bow.transform(x_test.cleaned_titles.values)\n",
    "print('x_train_titles_bow', x_train_titles_bow.shape)\n",
    "print('x_test_titles_bow', x_test_titles_bow.shape)"
   ]
  },
  {
   "cell_type": "markdown",
   "id": "7672e4e7",
   "metadata": {},
   "source": [
    "<b>Case 2 - TFIDF Vectorization for cleaned_titles & cleaned_essays<b>"
   ]
  },
  {
   "cell_type": "markdown",
   "id": "3a9bb332",
   "metadata": {},
   "source": [
    "cleaned_essays"
   ]
  },
  {
   "cell_type": "code",
   "execution_count": 29,
   "id": "011118f4",
   "metadata": {},
   "outputs": [
    {
     "name": "stdout",
     "output_type": "stream",
     "text": [
      "x_train_essays_tfidf (73167, 14121)\n",
      "x_test_essays_tfidf (36038, 14121)\n"
     ]
    }
   ],
   "source": [
    "# considering only the words which appeared in at least 10 rows / projects\n",
    "vectorizer_essays_tfidf = TfidfVectorizer(min_df=10)\n",
    "# vectorizer will be fit only on train data\n",
    "vectorizer_essays_tfidf.fit(x_train.cleaned_essays.values)\n",
    "# transfrom for test & train\n",
    "x_train_essays_tfidf = vectorizer_essays_tfidf.transform(x_train.cleaned_essays.values)\n",
    "x_test_essays_tfidf = vectorizer_essays_tfidf.transform(x_test.cleaned_essays.values)\n",
    "print('x_train_essays_tfidf', x_train_essays_tfidf.shape)\n",
    "print('x_test_essays_tfidf', x_test_essays_tfidf.shape)"
   ]
  },
  {
   "cell_type": "markdown",
   "id": "69fa076d",
   "metadata": {},
   "source": [
    "cleaned_titles"
   ]
  },
  {
   "cell_type": "code",
   "execution_count": 30,
   "id": "c157fb62",
   "metadata": {},
   "outputs": [
    {
     "name": "stdout",
     "output_type": "stream",
     "text": [
      "x_train_titles_tfidf (73167, 2522)\n",
      "x_test_titles_tfidf (36038, 2522)\n"
     ]
    }
   ],
   "source": [
    "# considering only the words which appeared in at least 10 rows / projects\n",
    "vectorizer_titles_tfidf = TfidfVectorizer(min_df=10)\n",
    "# vectorizer will be fit only on train data\n",
    "vectorizer_titles_tfidf.fit(x_train.cleaned_titles.values)\n",
    "# transfrom for test & train\n",
    "x_train_titles_tfidf = vectorizer_titles_tfidf.transform(x_train.cleaned_titles.values)\n",
    "x_test_titles_tfidf = vectorizer_titles_tfidf.transform(x_test.cleaned_titles.values)\n",
    "print('x_train_titles_tfidf', x_train_titles_tfidf.shape)\n",
    "print('x_test_titles_tfidf', x_test_titles_tfidf.shape)"
   ]
  },
  {
   "cell_type": "markdown",
   "id": "d091d0e0",
   "metadata": {},
   "source": [
    "<b>One Hot Encoding Categorical Variables - teacher_prefix, school_state, project_grade_category, project_subject_categories, project_subject_subcategories<b>"
   ]
  },
  {
   "cell_type": "markdown",
   "id": "af62df14",
   "metadata": {},
   "source": [
    "teacher_prefix"
   ]
  },
  {
   "cell_type": "code",
   "execution_count": 31,
   "id": "94559904",
   "metadata": {},
   "outputs": [
    {
     "name": "stdout",
     "output_type": "stream",
     "text": [
      "x_train_teacher_onehot (73167, 5)\n",
      "x_test_teacher_onehot (36038, 5)\n",
      "['dr', 'mr', 'mrs', 'ms', 'teacher']\n"
     ]
    }
   ],
   "source": [
    "# one hot encoding teacher_prefix\n",
    "vectorizer_teacher_onehot = CountVectorizer(lowercase=False, binary=True)\n",
    "# fit only on train data\n",
    "vectorizer_teacher_onehot.fit(x_train.teacher_prefix.values)\n",
    "# transfrom for test & train\n",
    "x_train_teacher_onehot = vectorizer_teacher_onehot.transform(x_train.teacher_prefix.values)\n",
    "x_test_teacher_onehot = vectorizer_teacher_onehot.transform(x_test.teacher_prefix.values)\n",
    "print('x_train_teacher_onehot', x_train_teacher_onehot.shape)\n",
    "print('x_test_teacher_onehot', x_test_teacher_onehot.shape)\n",
    "print(vectorizer_teacher_onehot.get_feature_names())"
   ]
  },
  {
   "cell_type": "markdown",
   "id": "1c1194b5",
   "metadata": {},
   "source": [
    "project_grade_category"
   ]
  },
  {
   "cell_type": "code",
   "execution_count": 32,
   "id": "59e32daa",
   "metadata": {},
   "outputs": [
    {
     "name": "stdout",
     "output_type": "stream",
     "text": [
      "x_train_grade_onehot (73167, 4)\n",
      "x_test_grade_onehot (36038, 4)\n",
      "['grades_3_5', 'grades_6_8', 'grades_9_12', 'grades_prek_2']\n"
     ]
    }
   ],
   "source": [
    "# one hot encoding project_grade_category\n",
    "vectorizer_grade_onehot = CountVectorizer(lowercase=False, binary=True)\n",
    "# fit only on train data\n",
    "vectorizer_grade_onehot.fit(x_train.project_grade_category.values)\n",
    "# transfrom for test & train\n",
    "x_train_grade_onehot = vectorizer_grade_onehot.transform(x_train.project_grade_category.values)\n",
    "x_test_grade_onehot = vectorizer_grade_onehot.transform(x_test.project_grade_category.values)\n",
    "print('x_train_grade_onehot', x_train_grade_onehot.shape)\n",
    "print('x_test_grade_onehot', x_test_grade_onehot.shape)\n",
    "print(vectorizer_grade_onehot.get_feature_names())"
   ]
  },
  {
   "cell_type": "markdown",
   "id": "3144b374",
   "metadata": {},
   "source": [
    "school_state "
   ]
  },
  {
   "cell_type": "code",
   "execution_count": 33,
   "id": "c9834fd9",
   "metadata": {},
   "outputs": [
    {
     "name": "stdout",
     "output_type": "stream",
     "text": [
      "x_train_school_state_onehot (73167, 51)\n",
      "x_test_school_state_onehot (36038, 51)\n",
      "['ak', 'al', 'ar', 'az', 'ca', 'co', 'ct', 'dc', 'de', 'fl', 'ga', 'hi', 'ia', 'id', 'il', 'in', 'ks', 'ky', 'la', 'ma', 'md', 'me', 'mi', 'mn', 'mo', 'ms', 'mt', 'nc', 'nd', 'ne', 'nh', 'nj', 'nm', 'nv', 'ny', 'oh', 'ok', 'or', 'pa', 'ri', 'sc', 'sd', 'tn', 'tx', 'ut', 'va', 'vt', 'wa', 'wi', 'wv', 'wy']\n"
     ]
    }
   ],
   "source": [
    "# one hot encoding school_state\n",
    "vectorizer_school_state_onehot = CountVectorizer(lowercase=False, binary=True)\n",
    "# fit only on train data\n",
    "vectorizer_school_state_onehot.fit(x_train.school_state.values)\n",
    "# transfrom for test & train\n",
    "x_train_school_state_onehot = vectorizer_school_state_onehot.transform(x_train.school_state.values)\n",
    "x_test_school_state_onehot = vectorizer_school_state_onehot.transform(x_test.school_state.values)\n",
    "print('x_train_school_state_onehot', x_train_school_state_onehot.shape)\n",
    "print('x_test_school_state_onehot', x_test_school_state_onehot.shape)\n",
    "print(vectorizer_school_state_onehot.get_feature_names())"
   ]
  },
  {
   "cell_type": "markdown",
   "id": "0aabdaa1",
   "metadata": {},
   "source": [
    "project_subject_categories "
   ]
  },
  {
   "cell_type": "code",
   "execution_count": 34,
   "id": "9f4e007c",
   "metadata": {},
   "outputs": [
    {
     "name": "stdout",
     "output_type": "stream",
     "text": [
      "x_train_subject_categories_onehot (73167, 51)\n",
      "x_test_subject_categories_onehot (36038, 51)\n",
      "['appliedlearning', 'appliedlearning_health_sports', 'appliedlearning_history_civics', 'appliedlearning_literacy_language', 'appliedlearning_math_science', 'appliedlearning_music_arts', 'appliedlearning_specialneeds', 'appliedlearning_warmth_care_hunger', 'health_sports', 'health_sports_appliedlearning', 'health_sports_history_civics', 'health_sports_literacy_language', 'health_sports_math_science', 'health_sports_music_arts', 'health_sports_specialneeds', 'health_sports_warmth_care_hunger', 'history_civics', 'history_civics_appliedlearning', 'history_civics_health_sports', 'history_civics_literacy_language', 'history_civics_math_science', 'history_civics_music_arts', 'history_civics_specialneeds', 'history_civics_warmth_care_hunger', 'literacy_language', 'literacy_language_appliedlearning', 'literacy_language_health_sports', 'literacy_language_history_civics', 'literacy_language_math_science', 'literacy_language_music_arts', 'literacy_language_specialneeds', 'literacy_language_warmth_care_hunger', 'math_science', 'math_science_appliedlearning', 'math_science_health_sports', 'math_science_history_civics', 'math_science_literacy_language', 'math_science_music_arts', 'math_science_specialneeds', 'math_science_warmth_care_hunger', 'music_arts', 'music_arts_appliedlearning', 'music_arts_health_sports', 'music_arts_history_civics', 'music_arts_specialneeds', 'music_arts_warmth_care_hunger', 'specialneeds', 'specialneeds_health_sports', 'specialneeds_music_arts', 'specialneeds_warmth_care_hunger', 'warmth_care_hunger']\n"
     ]
    }
   ],
   "source": [
    "# one hot encoding project_subject_categories\n",
    "vectorizer_subject_categories_onehot = CountVectorizer(lowercase=False, binary=True)\n",
    "# fit only on train data\n",
    "vectorizer_subject_categories_onehot.fit(x_train.project_subject_categories.values)\n",
    "# transfrom for test & train\n",
    "x_train_subject_categories_onehot = vectorizer_subject_categories_onehot.transform(x_train.project_subject_categories.values)\n",
    "x_test_subject_categories_onehot = vectorizer_subject_categories_onehot.transform(x_test.project_subject_categories.values)\n",
    "print('x_train_subject_categories_onehot', x_train_subject_categories_onehot.shape)\n",
    "print('x_test_subject_categories_onehot', x_test_subject_categories_onehot.shape)\n",
    "print(vectorizer_subject_categories_onehot.get_feature_names())"
   ]
  },
  {
   "cell_type": "markdown",
   "id": "96974075",
   "metadata": {},
   "source": [
    "project_subject_subcategories "
   ]
  },
  {
   "cell_type": "code",
   "execution_count": 35,
   "id": "417b8f10",
   "metadata": {},
   "outputs": [
    {
     "name": "stdout",
     "output_type": "stream",
     "text": [
      "x_train_subject_subcategories_onehot (73167, 392)\n",
      "x_test_subject_subcategories_onehot (36038, 392)\n",
      "['appliedsciences', 'appliedsciences_charactereducation', 'appliedsciences_civics_government', 'appliedsciences_college_careerprep', 'appliedsciences_communityservice', 'appliedsciences_earlydevelopment', 'appliedsciences_economics', 'appliedsciences_environmentalscience', 'appliedsciences_esl', 'appliedsciences_extracurricular', 'appliedsciences_financialliteracy', 'appliedsciences_foreignlanguages', 'appliedsciences_gym_fitness', 'appliedsciences_health_lifescience', 'appliedsciences_health_wellness', 'appliedsciences_history_geography', 'appliedsciences_literacy', 'appliedsciences_literature_writing', 'appliedsciences_mathematics', 'appliedsciences_music', 'appliedsciences_nutritioneducation', 'appliedsciences_other', 'appliedsciences_parentinvolvement', 'appliedsciences_performingarts', 'appliedsciences_socialsciences', 'appliedsciences_specialneeds', 'appliedsciences_teamsports', 'appliedsciences_visualarts', 'appliedsciences_warmth_care_hunger', 'charactereducation', 'charactereducation_civics_government', 'charactereducation_college_careerprep', 'charactereducation_communityservice', 'charactereducation_earlydevelopment', 'charactereducation_economics', 'charactereducation_environmentalscience', 'charactereducation_esl', 'charactereducation_extracurricular', 'charactereducation_financialliteracy', 'charactereducation_foreignlanguages', 'charactereducation_gym_fitness', 'charactereducation_health_lifescience', 'charactereducation_health_wellness', 'charactereducation_history_geography', 'charactereducation_literacy', 'charactereducation_literature_writing', 'charactereducation_mathematics', 'charactereducation_music', 'charactereducation_nutritioneducation', 'charactereducation_other', 'charactereducation_parentinvolvement', 'charactereducation_performingarts', 'charactereducation_socialsciences', 'charactereducation_specialneeds', 'charactereducation_teamsports', 'charactereducation_visualarts', 'charactereducation_warmth_care_hunger', 'civics_government', 'civics_government_college_careerprep', 'civics_government_communityservice', 'civics_government_economics', 'civics_government_environmentalscience', 'civics_government_esl', 'civics_government_extracurricular', 'civics_government_financialliteracy', 'civics_government_foreignlanguages', 'civics_government_health_lifescience', 'civics_government_health_wellness', 'civics_government_history_geography', 'civics_government_literacy', 'civics_government_literature_writing', 'civics_government_mathematics', 'civics_government_parentinvolvement', 'civics_government_performingarts', 'civics_government_socialsciences', 'civics_government_specialneeds', 'civics_government_teamsports', 'civics_government_visualarts', 'college_careerprep', 'college_careerprep_communityservice', 'college_careerprep_earlydevelopment', 'college_careerprep_economics', 'college_careerprep_environmentalscience', 'college_careerprep_esl', 'college_careerprep_extracurricular', 'college_careerprep_financialliteracy', 'college_careerprep_foreignlanguages', 'college_careerprep_gym_fitness', 'college_careerprep_health_lifescience', 'college_careerprep_health_wellness', 'college_careerprep_history_geography', 'college_careerprep_literacy', 'college_careerprep_literature_writing', 'college_careerprep_mathematics', 'college_careerprep_music', 'college_careerprep_nutritioneducation', 'college_careerprep_other', 'college_careerprep_parentinvolvement', 'college_careerprep_performingarts', 'college_careerprep_socialsciences', 'college_careerprep_specialneeds', 'college_careerprep_teamsports', 'college_careerprep_visualarts', 'college_careerprep_warmth_care_hunger', 'communityservice', 'communityservice_earlydevelopment', 'communityservice_economics', 'communityservice_environmentalscience', 'communityservice_esl', 'communityservice_extracurricular', 'communityservice_financialliteracy', 'communityservice_gym_fitness', 'communityservice_health_lifescience', 'communityservice_health_wellness', 'communityservice_history_geography', 'communityservice_literacy', 'communityservice_literature_writing', 'communityservice_mathematics', 'communityservice_music', 'communityservice_nutritioneducation', 'communityservice_other', 'communityservice_parentinvolvement', 'communityservice_performingarts', 'communityservice_socialsciences', 'communityservice_specialneeds', 'communityservice_visualarts', 'earlydevelopment', 'earlydevelopment_economics', 'earlydevelopment_environmentalscience', 'earlydevelopment_extracurricular', 'earlydevelopment_financialliteracy', 'earlydevelopment_foreignlanguages', 'earlydevelopment_gym_fitness', 'earlydevelopment_health_lifescience', 'earlydevelopment_health_wellness', 'earlydevelopment_history_geography', 'earlydevelopment_literacy', 'earlydevelopment_literature_writing', 'earlydevelopment_mathematics', 'earlydevelopment_music', 'earlydevelopment_nutritioneducation', 'earlydevelopment_other', 'earlydevelopment_parentinvolvement', 'earlydevelopment_performingarts', 'earlydevelopment_socialsciences', 'earlydevelopment_specialneeds', 'earlydevelopment_teamsports', 'earlydevelopment_visualarts', 'earlydevelopment_warmth_care_hunger', 'economics', 'economics_environmentalscience', 'economics_financialliteracy', 'economics_foreignlanguages', 'economics_health_lifescience', 'economics_history_geography', 'economics_literacy', 'economics_literature_writing', 'economics_mathematics', 'economics_music', 'economics_other', 'economics_socialsciences', 'economics_visualarts', 'environmentalscience', 'environmentalscience_extracurricular', 'environmentalscience_financialliteracy', 'environmentalscience_foreignlanguages', 'environmentalscience_gym_fitness', 'environmentalscience_health_lifescience', 'environmentalscience_health_wellness', 'environmentalscience_history_geography', 'environmentalscience_literacy', 'environmentalscience_literature_writing', 'environmentalscience_mathematics', 'environmentalscience_music', 'environmentalscience_nutritioneducation', 'environmentalscience_other', 'environmentalscience_parentinvolvement', 'environmentalscience_performingarts', 'environmentalscience_socialsciences', 'environmentalscience_specialneeds', 'environmentalscience_teamsports', 'environmentalscience_visualarts', 'environmentalscience_warmth_care_hunger', 'esl', 'esl_earlydevelopment', 'esl_environmentalscience', 'esl_extracurricular', 'esl_financialliteracy', 'esl_foreignlanguages', 'esl_gym_fitness', 'esl_health_lifescience', 'esl_health_wellness', 'esl_history_geography', 'esl_literacy', 'esl_literature_writing', 'esl_mathematics', 'esl_music', 'esl_other', 'esl_parentinvolvement', 'esl_performingarts', 'esl_socialsciences', 'esl_specialneeds', 'esl_teamsports', 'esl_visualarts', 'extracurricular', 'extracurricular_financialliteracy', 'extracurricular_foreignlanguages', 'extracurricular_gym_fitness', 'extracurricular_health_lifescience', 'extracurricular_health_wellness', 'extracurricular_history_geography', 'extracurricular_literacy', 'extracurricular_literature_writing', 'extracurricular_mathematics', 'extracurricular_music', 'extracurricular_nutritioneducation', 'extracurricular_other', 'extracurricular_parentinvolvement', 'extracurricular_performingarts', 'extracurricular_socialsciences', 'extracurricular_specialneeds', 'extracurricular_teamsports', 'extracurricular_visualarts', 'financialliteracy', 'financialliteracy_health_lifescience', 'financialliteracy_health_wellness', 'financialliteracy_history_geography', 'financialliteracy_literacy', 'financialliteracy_literature_writing', 'financialliteracy_mathematics', 'financialliteracy_other', 'financialliteracy_parentinvolvement', 'financialliteracy_performingarts', 'financialliteracy_socialsciences', 'financialliteracy_specialneeds', 'financialliteracy_visualarts', 'foreignlanguages', 'foreignlanguages_health_lifescience', 'foreignlanguages_health_wellness', 'foreignlanguages_history_geography', 'foreignlanguages_literacy', 'foreignlanguages_literature_writing', 'foreignlanguages_mathematics', 'foreignlanguages_music', 'foreignlanguages_other', 'foreignlanguages_performingarts', 'foreignlanguages_socialsciences', 'foreignlanguages_specialneeds', 'foreignlanguages_visualarts', 'gym_fitness', 'gym_fitness_health_lifescience', 'gym_fitness_health_wellness', 'gym_fitness_history_geography', 'gym_fitness_literacy', 'gym_fitness_literature_writing', 'gym_fitness_mathematics', 'gym_fitness_music', 'gym_fitness_nutritioneducation', 'gym_fitness_other', 'gym_fitness_performingarts', 'gym_fitness_socialsciences', 'gym_fitness_specialneeds', 'gym_fitness_teamsports', 'gym_fitness_visualarts', 'health_lifescience', 'health_lifescience_health_wellness', 'health_lifescience_history_geography', 'health_lifescience_literacy', 'health_lifescience_literature_writing', 'health_lifescience_mathematics', 'health_lifescience_music', 'health_lifescience_nutritioneducation', 'health_lifescience_other', 'health_lifescience_parentinvolvement', 'health_lifescience_performingarts', 'health_lifescience_socialsciences', 'health_lifescience_specialneeds', 'health_lifescience_teamsports', 'health_lifescience_visualarts', 'health_lifescience_warmth_care_hunger', 'health_wellness', 'health_wellness_history_geography', 'health_wellness_literacy', 'health_wellness_literature_writing', 'health_wellness_mathematics', 'health_wellness_music', 'health_wellness_nutritioneducation', 'health_wellness_other', 'health_wellness_parentinvolvement', 'health_wellness_performingarts', 'health_wellness_socialsciences', 'health_wellness_specialneeds', 'health_wellness_teamsports', 'health_wellness_visualarts', 'health_wellness_warmth_care_hunger', 'history_geography', 'history_geography_literacy', 'history_geography_literature_writing', 'history_geography_mathematics', 'history_geography_music', 'history_geography_other', 'history_geography_parentinvolvement', 'history_geography_performingarts', 'history_geography_socialsciences', 'history_geography_specialneeds', 'history_geography_teamsports', 'history_geography_visualarts', 'history_geography_warmth_care_hunger', 'literacy', 'literacy_literature_writing', 'literacy_mathematics', 'literacy_music', 'literacy_nutritioneducation', 'literacy_other', 'literacy_parentinvolvement', 'literacy_performingarts', 'literacy_socialsciences', 'literacy_specialneeds', 'literacy_teamsports', 'literacy_visualarts', 'literacy_warmth_care_hunger', 'literature_writing', 'literature_writing_mathematics', 'literature_writing_music', 'literature_writing_nutritioneducation', 'literature_writing_other', 'literature_writing_parentinvolvement', 'literature_writing_performingarts', 'literature_writing_socialsciences', 'literature_writing_specialneeds', 'literature_writing_teamsports', 'literature_writing_visualarts', 'literature_writing_warmth_care_hunger', 'mathematics', 'mathematics_music', 'mathematics_nutritioneducation', 'mathematics_other', 'mathematics_parentinvolvement', 'mathematics_performingarts', 'mathematics_socialsciences', 'mathematics_specialneeds', 'mathematics_teamsports', 'mathematics_visualarts', 'mathematics_warmth_care_hunger', 'music', 'music_other', 'music_parentinvolvement', 'music_performingarts', 'music_socialsciences', 'music_specialneeds', 'music_teamsports', 'music_visualarts', 'nutritioneducation', 'nutritioneducation_other', 'nutritioneducation_socialsciences', 'nutritioneducation_specialneeds', 'nutritioneducation_teamsports', 'nutritioneducation_visualarts', 'nutritioneducation_warmth_care_hunger', 'other', 'other_parentinvolvement', 'other_performingarts', 'other_socialsciences', 'other_specialneeds', 'other_teamsports', 'other_visualarts', 'other_warmth_care_hunger', 'parentinvolvement', 'parentinvolvement_performingarts', 'parentinvolvement_socialsciences', 'parentinvolvement_specialneeds', 'parentinvolvement_teamsports', 'parentinvolvement_visualarts', 'parentinvolvement_warmth_care_hunger', 'performingarts', 'performingarts_socialsciences', 'performingarts_specialneeds', 'performingarts_teamsports', 'performingarts_visualarts', 'socialsciences', 'socialsciences_specialneeds', 'socialsciences_teamsports', 'socialsciences_visualarts', 'specialneeds', 'specialneeds_teamsports', 'specialneeds_visualarts', 'specialneeds_warmth_care_hunger', 'teamsports', 'teamsports_visualarts', 'visualarts', 'visualarts_warmth_care_hunger', 'warmth_care_hunger']\n"
     ]
    }
   ],
   "source": [
    "# one hot encoding project_subject_subcategories\n",
    "vectorizer_subject_subcategories_onehot = CountVectorizer(lowercase=False, binary=True)\n",
    "# fit only on train data\n",
    "vectorizer_subject_subcategories_onehot.fit(x_train.project_subject_subcategories.values)\n",
    "# transfrom for test & train\n",
    "x_train_subject_subcategories_onehot = vectorizer_subject_subcategories_onehot.transform(x_train.project_subject_subcategories.values)\n",
    "x_test_subject_subcategories_onehot = vectorizer_subject_subcategories_onehot.transform(x_test.project_subject_subcategories.values)\n",
    "print('x_train_subject_subcategories_onehot', x_train_subject_subcategories_onehot.shape)\n",
    "print('x_test_subject_subcategories_onehot', x_test_subject_subcategories_onehot.shape)\n",
    "print(vectorizer_subject_subcategories_onehot.get_feature_names())"
   ]
  },
  {
   "cell_type": "markdown",
   "id": "0ba7f6a8",
   "metadata": {},
   "source": [
    "<b>Normalizing numerical variables - price, quantity, teacher_number_of_previously_posted_projects<b>"
   ]
  },
  {
   "cell_type": "markdown",
   "id": "943fdd00",
   "metadata": {},
   "source": [
    "price"
   ]
  },
  {
   "cell_type": "code",
   "execution_count": 36,
   "id": "0967df7a",
   "metadata": {},
   "outputs": [
    {
     "name": "stdout",
     "output_type": "stream",
     "text": [
      "x_train_price_normalized [[1.26621019e-02 1.29341471e-02 1.73378781e-02 ... 4.43173567e-03\n",
      "  2.49974496e-01 1.67027727e-04]] (73167, 1)\n",
      "x_test_price_normalized [[0.10191492 0.02779061 0.02421802 ... 0.00093315 0.00911251 0.02693747]] (36038, 1)\n"
     ]
    }
   ],
   "source": [
    "normalizer_price = MinMaxScaler()\n",
    "# fit on train data\n",
    "normalizer_price.fit(x_train.price.values.reshape(-1, 1))\n",
    "\n",
    "# transform on train & test data\n",
    "x_train_price_normalized = normalizer_price.transform(x_train.price.values.reshape(-1, 1))\n",
    "x_test_price_normalized = normalizer_price.transform(x_test.price.values.reshape(-1, 1))\n",
    "\n",
    "print('x_train_price_normalized',x_train_price_normalized.T, x_train_price_normalized.shape)\n",
    "print('x_test_price_normalized',x_test_price_normalized.T, x_test_price_normalized.shape)"
   ]
  },
  {
   "cell_type": "markdown",
   "id": "38e080c9",
   "metadata": {},
   "source": [
    "quantity"
   ]
  },
  {
   "cell_type": "code",
   "execution_count": 37,
   "id": "1402dc18",
   "metadata": {},
   "outputs": [
    {
     "name": "stdout",
     "output_type": "stream",
     "text": [
      "x_train_quantity_normalized [[0.00625782 0.00876095 0.0350438  ... 0.03003755 0.         0.28035044]] (73167, 1)\n",
      "x_test_quantity_normalized [[0.01501877 0.0387985  0.00500626 ... 0.02377972 0.03128911 0.        ]] (36038, 1)\n"
     ]
    }
   ],
   "source": [
    "normalizer_quantity = MinMaxScaler()\n",
    "# fit on train data\n",
    "normalizer_quantity.fit(x_train.quantity.values.reshape(-1, 1))\n",
    "\n",
    "# transform on train & test data\n",
    "x_train_quantity_normalized = normalizer_quantity.transform(x_train.quantity.values.reshape(-1, 1))\n",
    "x_test_quantity_normalized = normalizer_quantity.transform(x_test.quantity.values.reshape(-1, 1))\n",
    "\n",
    "print('x_train_quantity_normalized', x_train_quantity_normalized.T, x_train_quantity_normalized.shape)\n",
    "print('x_test_quantity_normalized', x_test_quantity_normalized.T, x_test_quantity_normalized.shape)"
   ]
  },
  {
   "cell_type": "markdown",
   "id": "fec90c82",
   "metadata": {},
   "source": [
    "teacher_number_of_previously_posted_projects"
   ]
  },
  {
   "cell_type": "code",
   "execution_count": 38,
   "id": "20a2f35b",
   "metadata": {},
   "outputs": [
    {
     "name": "stdout",
     "output_type": "stream",
     "text": [
      "x_train_teacher_prev_projects_normalized [[0.02882483 0.00221729 0.00886918 ... 0.03104213 0.01995565 0.00221729]] (73167, 1)\n",
      "x_test_teacher_prev_projects_normalized [[0.06430155 0.00665188 0.02439024 ... 0.00443459 0.00665188 0.        ]] (36038, 1)\n"
     ]
    }
   ],
   "source": [
    "normalizer_teacher_prev_projects = MinMaxScaler()\n",
    "# fit on train data\n",
    "normalizer_teacher_prev_projects.fit(x_train.teacher_number_of_previously_posted_projects.values.reshape(-1, 1))\n",
    "\n",
    "# transform on train & test data\n",
    "x_train_teacher_prev_projects_normalized = normalizer_teacher_prev_projects.transform(x_train.teacher_number_of_previously_posted_projects.values.reshape(-1, 1))\n",
    "x_test_teacher_prev_projects_normalized = normalizer_teacher_prev_projects.transform(x_test.teacher_number_of_previously_posted_projects.values.reshape(-1, 1))\n",
    "\n",
    "print('x_train_teacher_prev_projects_normalized', x_train_teacher_prev_projects_normalized.T, x_train_teacher_prev_projects_normalized.shape)\n",
    "print('x_test_teacher_prev_projects_normalized', x_test_teacher_prev_projects_normalized.T, x_test_teacher_prev_projects_normalized.shape)"
   ]
  },
  {
   "cell_type": "markdown",
   "id": "a11cde47",
   "metadata": {},
   "source": [
    "<b>Concentrating all features for Case 1 (BOW) & Case 2 (TFIDF)<b>"
   ]
  },
  {
   "cell_type": "markdown",
   "id": "5bbc6f4f",
   "metadata": {},
   "source": [
    "Concentrating all Non-text features"
   ]
  },
  {
   "cell_type": "code",
   "execution_count": 39,
   "id": "2151ea05",
   "metadata": {},
   "outputs": [],
   "source": [
    "X_train_other = hstack((x_train_quantity_normalized,\n",
    "                      x_train_teacher_prev_projects_normalized,\n",
    "                      x_train_price_normalized,\n",
    "                      x_train_subject_subcategories_onehot,\n",
    "                      x_train_subject_categories_onehot,\n",
    "                      x_train_school_state_onehot,\n",
    "                      x_train_grade_onehot,\n",
    "                      x_train_teacher_onehot\n",
    "                     ))"
   ]
  },
  {
   "cell_type": "code",
   "execution_count": 40,
   "id": "bf42d60e",
   "metadata": {},
   "outputs": [
    {
     "name": "stdout",
     "output_type": "stream",
     "text": [
      "<class 'scipy.sparse.coo.coo_matrix'>\n",
      "(73167, 506)\n"
     ]
    }
   ],
   "source": [
    "print(type(X_train_other))\n",
    "print(X_train_other.shape)"
   ]
  },
  {
   "cell_type": "code",
   "execution_count": 41,
   "id": "f4995ced",
   "metadata": {},
   "outputs": [],
   "source": [
    "X_Test_other = hstack((x_test_quantity_normalized,\n",
    "                      x_test_teacher_prev_projects_normalized,\n",
    "                      x_test_price_normalized,\n",
    "                      x_test_subject_subcategories_onehot,\n",
    "                      x_test_subject_categories_onehot,\n",
    "                      x_test_school_state_onehot,\n",
    "                      x_test_grade_onehot,\n",
    "                      x_test_teacher_onehot\n",
    "                     ))"
   ]
  },
  {
   "cell_type": "code",
   "execution_count": 42,
   "id": "b8c68841",
   "metadata": {},
   "outputs": [
    {
     "name": "stdout",
     "output_type": "stream",
     "text": [
      "<class 'scipy.sparse.coo.coo_matrix'>\n",
      "(36038, 506)\n"
     ]
    }
   ],
   "source": [
    "print(type(X_Test_other))\n",
    "print(X_Test_other.shape)"
   ]
  },
  {
   "cell_type": "markdown",
   "id": "39914c06",
   "metadata": {},
   "source": [
    "Concentrating Non-text features with text features : Case 1 : BOW"
   ]
  },
  {
   "cell_type": "code",
   "execution_count": 43,
   "id": "24e5cb61",
   "metadata": {},
   "outputs": [
    {
     "name": "stdout",
     "output_type": "stream",
     "text": [
      "X_train_BoW <class 'scipy.sparse.csr.csr_matrix'> (73167, 17149)\n",
      "X_Test_BoW <class 'scipy.sparse.csr.csr_matrix'> (36038, 17149)\n"
     ]
    }
   ],
   "source": [
    "X_train_BoW = hstack((X_train_other, x_train_essays_bow, x_train_titles_bow)).tocsr()\n",
    "X_Test_BoW = hstack((X_Test_other, x_test_essays_bow, x_test_titles_bow)).tocsr()\n",
    "print('X_train_BoW',type(X_train_BoW),X_train_BoW.shape)\n",
    "print('X_Test_BoW',type(X_Test_BoW),X_Test_BoW.shape)"
   ]
  },
  {
   "cell_type": "markdown",
   "id": "98573b91",
   "metadata": {},
   "source": [
    "Concentrating Non-text features with text features : Case 2 : TFIDF"
   ]
  },
  {
   "cell_type": "code",
   "execution_count": 44,
   "id": "605aec33",
   "metadata": {},
   "outputs": [
    {
     "name": "stdout",
     "output_type": "stream",
     "text": [
      "X_train_TFIDF <class 'scipy.sparse.csr.csr_matrix'> (73167, 17149)\n",
      "X_Test_TFIDF <class 'scipy.sparse.csr.csr_matrix'> (36038, 17149)\n"
     ]
    }
   ],
   "source": [
    "X_train_TFIDF = hstack((X_train_other, x_train_essays_tfidf, x_train_titles_tfidf)).tocsr()\n",
    "X_Test_TFIDF = hstack((X_Test_other, x_test_essays_tfidf, x_test_titles_tfidf)).tocsr()\n",
    "print('X_train_TFIDF',type(X_train_TFIDF),X_train_TFIDF.shape)\n",
    "print('X_Test_TFIDF',type(X_Test_TFIDF),X_Test_TFIDF.shape)"
   ]
  },
  {
   "cell_type": "markdown",
   "id": "47442fb9",
   "metadata": {},
   "source": [
    "<b>Model Building : Case 1 : BOW<b>"
   ]
  },
  {
   "cell_type": "markdown",
   "id": "eea3a8f3",
   "metadata": {},
   "source": [
    "Finding the best hyper parameters by GridSearchCV - using 3 folds cross-validation"
   ]
  },
  {
   "cell_type": "markdown",
   "id": "b554ffb7",
   "metadata": {},
   "source": [
    "In case of binary classification usually its best to evaluate based on roc scores, so we are using roc_auc as scoring criteria for GridSearchCV"
   ]
  },
  {
   "cell_type": "code",
   "execution_count": 46,
   "id": "83e6f357",
   "metadata": {},
   "outputs": [],
   "source": [
    "dt_bow = DecisionTreeClassifier(class_weight='balanced')\n",
    "parameters = {'max_depth':[5, 10, 50],'min_samples_split':[10, 100, 500]}\n",
    "grid_search_bow = GridSearchCV(dt_bow, parameters, cv= 3, scoring='roc_auc',verbose=1,return_train_score=True,n_jobs=-1)"
   ]
  },
  {
   "cell_type": "markdown",
   "id": "d442f8f4",
   "metadata": {},
   "source": [
    "Case 1 : BOW : Fitting model"
   ]
  },
  {
   "cell_type": "code",
   "execution_count": 47,
   "id": "08065b8b",
   "metadata": {},
   "outputs": [
    {
     "name": "stdout",
     "output_type": "stream",
     "text": [
      "Fitting 3 folds for each of 9 candidates, totalling 27 fits\n"
     ]
    },
    {
     "data": {
      "text/plain": [
       "GridSearchCV(cv=3, estimator=DecisionTreeClassifier(class_weight='balanced'),\n",
       "             n_jobs=-1,\n",
       "             param_grid={'max_depth': [5, 10, 50],\n",
       "                         'min_samples_split': [10, 100, 500]},\n",
       "             return_train_score=True, scoring='roc_auc', verbose=1)"
      ]
     },
     "execution_count": 47,
     "metadata": {},
     "output_type": "execute_result"
    }
   ],
   "source": [
    "grid_search_bow.fit(X_train_BoW,y_train)"
   ]
  },
  {
   "cell_type": "code",
   "execution_count": 48,
   "id": "36fb971a",
   "metadata": {},
   "outputs": [
    {
     "name": "stdout",
     "output_type": "stream",
     "text": [
      "Best Max Depth: 10\n",
      "Best Min Samples Split: 500\n",
      "Best Score: 0.6857517547134536\n"
     ]
    }
   ],
   "source": [
    "print(\"Best Max Depth:\",grid_search_bow.best_params_['max_depth'])\n",
    "print(\"Best Min Samples Split:\",grid_search_bow.best_params_['min_samples_split'])\n",
    "print(\"Best Score:\",grid_search_bow.best_score_)"
   ]
  },
  {
   "cell_type": "markdown",
   "id": "f34435ac",
   "metadata": {},
   "source": [
    "Case 1 : BOW : Build Model using above best hyper parameters & make predictions for train & test Data"
   ]
  },
  {
   "cell_type": "code",
   "execution_count": 49,
   "id": "6e0e7c31",
   "metadata": {},
   "outputs": [
    {
     "data": {
      "text/plain": [
       "DecisionTreeClassifier(class_weight='balanced', max_depth=10,\n",
       "                       min_samples_split=500)"
      ]
     },
     "execution_count": 49,
     "metadata": {},
     "output_type": "execute_result"
    }
   ],
   "source": [
    "# build model using best parameters found by above hyper parameter tuning\n",
    "dt_bow_testModel = DecisionTreeClassifier(class_weight='balanced',\n",
    "                                          min_samples_split=grid_search_bow.best_params_['min_samples_split'],\n",
    "                                          max_depth=grid_search_bow.best_params_['max_depth']\n",
    "                                         )\n",
    "dt_bow_testModel.fit(X_train_BoW, y_train)"
   ]
  },
  {
   "cell_type": "code",
   "execution_count": 50,
   "id": "eef5af78",
   "metadata": {},
   "outputs": [],
   "source": [
    "# prediction for train & test data - bow\n",
    "y_train_pred_bow= dt_bow_testModel.predict(X_train_BoW)\n",
    "y_test_pred_bow = dt_bow_testModel.predict(X_Test_BoW)"
   ]
  },
  {
   "cell_type": "markdown",
   "id": "a3a75389",
   "metadata": {},
   "source": [
    "Case 1 : BOW : Plotting Confusion Matrix & ROC Curve for Train Data"
   ]
  },
  {
   "cell_type": "code",
   "execution_count": 81,
   "id": "6b8cff77",
   "metadata": {},
   "outputs": [
    {
     "data": {
      "image/png": "[encoded data removed]",
      "text/plain": [
       "<Figure size 432x288 with 2 Axes>"
      ]
     },
     "metadata": {
      "needs_background": "light"
     },
     "output_type": "display_data"
    }
   ],
   "source": [
    "# train data - confusion matrix\n",
    "cm_train_bow = confusion_matrix(y_train,y_train_pred_bow)\n",
    "\n",
    "# plot confusion matrix for train data predition for bow\n",
    "ax = sns.heatmap(cm_train_bow, annot=True, cmap='Blues', fmt='g')\n",
    "ax.set_title('BOW: Confusion Matrix for Donors Choose Project Approval Train\\n\\n', fontdict={'size':'13.5'})\n",
    "ax.set_xlabel('\\nPredicted Values', fontdict={'size':'13.5'})\n",
    "ax.set_ylabel('Actual Values', fontdict={'size':'13.5'})\n",
    "ax.xaxis.set_ticklabels(['Not Approved','Approved'])\n",
    "ax.yaxis.set_ticklabels(['Not Approved','Approved'])\n",
    "ax.tick_params(axis='both', which='major', labelsize=13.5)\n",
    "plt.show()"
   ]
  },
  {
   "cell_type": "code",
   "execution_count": 78,
   "id": "1bdac461",
   "metadata": {},
   "outputs": [
    {
     "data": {
      "image/png": "[encoded data removed]",
      "text/plain": [
       "<Figure size 432x288 with 2 Axes>"
      ]
     },
     "metadata": {
      "needs_background": "light"
     },
     "output_type": "display_data"
    }
   ],
   "source": [
    "# test data - confusion matrix\n",
    "cm_test_bow = confusion_matrix(y_test,y_test_pred_bow)\n",
    "\n",
    "# plot confusion matrix for test data predition for bow\n",
    "ax = sns.heatmap(cm_test_bow, annot=True, cmap='Blues', fmt='g')\n",
    "ax.set_title('BOW: Confusion Matrix for Donors Choose Project Approval Test\\n\\n', fontdict={'size':'13.5'})\n",
    "ax.set_xlabel('\\nPredicted Values', fontdict={'size':'13.5'})\n",
    "ax.set_ylabel('Actual Values', fontdict={'size':'13.5'})\n",
    "ax.xaxis.set_ticklabels(['Not Approved','Approved'])\n",
    "ax.yaxis.set_ticklabels(['Not Approved','Approved'])\n",
    "ax.tick_params(axis='both', which='major', labelsize=13.5)\n",
    "plt.show()"
   ]
  },
  {
   "cell_type": "code",
   "execution_count": 53,
   "id": "9ccdff2f",
   "metadata": {},
   "outputs": [
    {
     "name": "stdout",
     "output_type": "stream",
     "text": [
      "0.6734866811540722 0.6529219157555913\n"
     ]
    }
   ],
   "source": [
    "# accuracy calculation\n",
    "train_score_bow = accuracy_score(y_train, y_train_pred_bow)\n",
    "test_score_bow = accuracy_score(y_test, y_test_pred_bow)\n",
    "print(train_score_bow, test_score_bow)"
   ]
  },
  {
   "cell_type": "code",
   "execution_count": 54,
   "id": "909b49e3",
   "metadata": {},
   "outputs": [
    {
     "data": {
      "image/png": "[encoded data removed]",
      "text/plain": [
       "<Figure size 432x288 with 1 Axes>"
      ]
     },
     "metadata": {
      "needs_background": "light"
     },
     "output_type": "display_data"
    }
   ],
   "source": [
    "# predicting probabilities for roc curve\n",
    "y_train_pred_prob_bow= dt_bow_testModel.predict_proba(X_train_BoW)[:,1]\n",
    "y_test_pred_prob_bow = dt_bow_testModel.predict_proba(X_Test_BoW)[:,1]\n",
    "\n",
    "train_fpr_bow, train_tpr_bow, train_thresholds_bow = roc_curve(y_train, y_train_pred_prob_bow)\n",
    "test_fpr_bow, test_tpr_bow, test_thresholds_bow = roc_curve(y_test, y_test_pred_prob_bow)\n",
    "\n",
    "# plotting roc curve for train & test data\n",
    "ax = plt.subplot()\n",
    "ax.plot(train_fpr_bow, train_tpr_bow, label=\"Train AUC =\"+str(auc(train_fpr_bow, train_tpr_bow)))\n",
    "ax.plot(test_fpr_bow, test_tpr_bow, label=\"Test AUC =\"+str(auc(test_fpr_bow, test_tpr_bow)))\n",
    "plt.legend()\n",
    "plt.xlabel(\"False Positive Rate(FPR)\")\n",
    "plt.ylabel(\"True Positive Rate(TPR)\")\n",
    "plt.title(\"AUC : Case 1 BOW\")\n",
    "plt.grid(visible=True, which='major', color='k', linestyle=':')\n",
    "ax.set_facecolor(\"white\")\n",
    "plt.show()"
   ]
  },
  {
   "cell_type": "markdown",
   "id": "19051cec",
   "metadata": {},
   "source": [
    "<b>Model Building : Case 2 : TFIDF<b>"
   ]
  },
  {
   "cell_type": "markdown",
   "id": "15333cfa",
   "metadata": {},
   "source": [
    "Finding the best hyper parameters by GridSearchCV - using 3 folds cross-validation & fitting the Model"
   ]
  },
  {
   "cell_type": "markdown",
   "id": "11a7e4e3",
   "metadata": {},
   "source": [
    "In case of binary classification usually its best to evaluate based on roc scores, so  we are using roc_auc as scoring criteria for GridSearchCV"
   ]
  },
  {
   "cell_type": "code",
   "execution_count": 55,
   "id": "2a49e406",
   "metadata": {},
   "outputs": [
    {
     "name": "stdout",
     "output_type": "stream",
     "text": [
      "Fitting 3 folds for each of 9 candidates, totalling 27 fits\n"
     ]
    },
    {
     "data": {
      "text/plain": [
       "GridSearchCV(cv=3, estimator=DecisionTreeClassifier(class_weight='balanced'),\n",
       "             n_jobs=-1,\n",
       "             param_grid={'max_depth': [5, 10, 50],\n",
       "                         'min_samples_split': [10, 100, 500]},\n",
       "             return_train_score=True, scoring='roc_auc', verbose=1)"
      ]
     },
     "execution_count": 55,
     "metadata": {},
     "output_type": "execute_result"
    }
   ],
   "source": [
    "grid_search_tfidf = GridSearchCV(dt, parameters, cv= 3, scoring='roc_auc',verbose=1,return_train_score=True,n_jobs=-1)\n",
    "grid_search_tfidf.fit(X_train_TFIDF,y_train)"
   ]
  },
  {
   "cell_type": "code",
   "execution_count": 56,
   "id": "78619426",
   "metadata": {},
   "outputs": [
    {
     "name": "stdout",
     "output_type": "stream",
     "text": [
      "Best Max Depth: 10\n",
      "Best Min Samples Split: 500\n",
      "Best Score: 0.6835305361222549\n"
     ]
    }
   ],
   "source": [
    "print(\"Best Max Depth:\",grid_search_tfidf.best_params_['max_depth'])\n",
    "print(\"Best Min Samples Split:\",grid_search_tfidf.best_params_['min_samples_split'])\n",
    "print(\"Best Score:\",grid_search_tfidf.best_score_)"
   ]
  },
  {
   "cell_type": "markdown",
   "id": "c85d6ef9",
   "metadata": {},
   "source": [
    "Case 2 : TFIDF : Build Model using above best hyper parameters & make predictions for train & test Data"
   ]
  },
  {
   "cell_type": "code",
   "execution_count": 57,
   "id": "02fbf8ff",
   "metadata": {},
   "outputs": [
    {
     "data": {
      "text/plain": [
       "DecisionTreeClassifier(class_weight='balanced', max_depth=10,\n",
       "                       min_samples_split=500)"
      ]
     },
     "execution_count": 57,
     "metadata": {},
     "output_type": "execute_result"
    }
   ],
   "source": [
    "# build model using best parameters found by above hyper parameter tuning\n",
    "dt_tfidf_testModel = DecisionTreeClassifier(class_weight='balanced',\n",
    "                                          min_samples_split=grid_search_tfidf.best_params_['min_samples_split'],\n",
    "                                          max_depth=grid_search_tfidf.best_params_['max_depth']\n",
    "                                         )\n",
    "dt_tfidf_testModel.fit(X_train_TFIDF, y_train)"
   ]
  },
  {
   "cell_type": "code",
   "execution_count": 58,
   "id": "82341e3c",
   "metadata": {},
   "outputs": [],
   "source": [
    "# prediction for train & test data - tfidf\n",
    "y_train_pred_tfidf= dt_tfidf_testModel.predict(X_train_TFIDF)\n",
    "y_test_pred_tfidf = dt_tfidf_testModel.predict(X_Test_TFIDF)"
   ]
  },
  {
   "cell_type": "markdown",
   "id": "f778a067",
   "metadata": {},
   "source": [
    "Case 2 : TFIDF : Plotting Confusion Matrix & ROC Curve for Train Data & Getting test,train accuracy scores"
   ]
  },
  {
   "cell_type": "code",
   "execution_count": 79,
   "id": "905cf5a6",
   "metadata": {},
   "outputs": [
    {
     "data": {
      "image/png": "[encoded data removed]",
      "text/plain": [
       "<Figure size 432x288 with 2 Axes>"
      ]
     },
     "metadata": {
      "needs_background": "light"
     },
     "output_type": "display_data"
    }
   ],
   "source": [
    "# train data - confusion matrix\n",
    "cm_train_tfidf = confusion_matrix(y_train, y_train_pred_tfidf)\n",
    "\n",
    "# plot confusion matrix for train data predition for bow\n",
    "ax = sns.heatmap(cm_train_tfidf, annot=True, cmap='Blues', fmt='g')\n",
    "ax.set_title('TFIDF: Confusion Matrix for Donors Choose Project Approval Train\\n\\n', fontdict={'size':'13.5'})\n",
    "ax.set_xlabel('\\nPredicted Values', fontdict={'size':'13.5'})\n",
    "ax.set_ylabel('Actual Values', fontdict={'size':'13.5'})\n",
    "ax.xaxis.set_ticklabels(['Not Approved','Approved'])\n",
    "ax.yaxis.set_ticklabels(['Not Approved','Approved'])\n",
    "ax.tick_params(axis='both', which='major', labelsize=13.5)\n",
    "plt.show()"
   ]
  },
  {
   "cell_type": "code",
   "execution_count": 80,
   "id": "e8a325a4",
   "metadata": {},
   "outputs": [
    {
     "data": {
      "image/png": "[encoded data removed]",
      "text/plain": [
       "<Figure size 432x288 with 2 Axes>"
      ]
     },
     "metadata": {
      "needs_background": "light"
     },
     "output_type": "display_data"
    }
   ],
   "source": [
    "# test data - confusion matrix\n",
    "cm_test_tfidf = confusion_matrix(y_test, y_test_pred_tfidf)\n",
    "\n",
    "# plot confusion matrix for train data predition for bow\n",
    "ax = sns.heatmap(cm_test_tfidf, annot=True, cmap='Blues', fmt='g')\n",
    "ax.set_title('TFIDF: Confusion Matrix for Donors Choose Project Approval Test\\n\\n', fontdict={'size':'13.5'})\n",
    "ax.set_xlabel('\\nPredicted Values', fontdict={'size':'13.5'})\n",
    "ax.set_ylabel('Actual Values', fontdict={'size':'13.5'})\n",
    "ax.xaxis.set_ticklabels(['Not Approved','Approved'])\n",
    "ax.yaxis.set_ticklabels(['Not Approved','Approved'])\n",
    "ax.tick_params(axis='both', which='major', labelsize=13.5)\n",
    "plt.show()"
   ]
  },
  {
   "cell_type": "code",
   "execution_count": 61,
   "id": "436669c7",
   "metadata": {},
   "outputs": [
    {
     "name": "stdout",
     "output_type": "stream",
     "text": [
      "0.642079079366381 0.617348354514679\n"
     ]
    }
   ],
   "source": [
    "# accuracy calculation\n",
    "train_score_tfidf = accuracy_score(y_train, y_train_pred_tfidf)\n",
    "test_score_tfidf = accuracy_score(y_test, y_test_pred_tfidf)\n",
    "print(train_score_tfidf, test_score_tfidf)"
   ]
  },
  {
   "cell_type": "code",
   "execution_count": 62,
   "id": "c2f6955a",
   "metadata": {},
   "outputs": [
    {
     "data": {
      "image/png": "[encoded data removed]",
      "text/plain": [
       "<Figure size 432x288 with 1 Axes>"
      ]
     },
     "metadata": {
      "needs_background": "light"
     },
     "output_type": "display_data"
    }
   ],
   "source": [
    "# predicting probabilities for roc curve\n",
    "y_train_pred_prob_tfidf= dt_tfidf_testModel.predict_proba(X_train_TFIDF)[:,1]\n",
    "y_test_pred_prob_tfidf = dt_tfidf_testModel.predict_proba(X_Test_TFIDF)[:,1]\n",
    "\n",
    "train_fpr_tfidf, train_tpr_tfidf, train_thresholds_tfidf = roc_curve(y_train, y_train_pred_prob_tfidf)\n",
    "test_fpr_tfidf, test_tpr_tfidf, test_thresholds_tfidf = roc_curve(y_test, y_test_pred_prob_tfidf)\n",
    "\n",
    "# plotting roc curve for train & test data\n",
    "ax = plt.subplot()\n",
    "ax.plot(train_fpr_tfidf, train_tpr_tfidf, label=\"Train AUC =\"+str(auc(train_fpr_tfidf, train_tpr_tfidf)))\n",
    "ax.plot(test_fpr_tfidf, test_tpr_tfidf, label=\"Test AUC =\"+str(auc(test_fpr_tfidf, test_tpr_tfidf)))\n",
    "plt.legend()\n",
    "plt.xlabel(\"False Positive Rate(FPR)\")\n",
    "plt.ylabel(\"True Positive Rate(TPR)\")\n",
    "plt.title(\"AUC : Case 2 TFIDF\")\n",
    "plt.grid(visible=True, which='major', color='k', linestyle=':')\n",
    "ax.set_facecolor(\"white\")\n",
    "plt.show()"
   ]
  },
  {
   "cell_type": "markdown",
   "id": "e63c8a85",
   "metadata": {},
   "source": [
    "<b>Selecting & modeling with features with non-zero feature importance for Case 2 (TFIDF)<b>"
   ]
  },
  {
   "cell_type": "code",
   "execution_count": 69,
   "id": "d82dd9f3",
   "metadata": {},
   "outputs": [
    {
     "name": "stdout",
     "output_type": "stream",
     "text": [
      "No of non zero importance features: 105\n",
      "Non zero importance features indices: [  329 13296  9494 16522 10673  5417 16384 10679 12834  9619  7621 14185\n",
      " 13036  6057 12686  7781 11053   502  1510  8397  6103  6273 11559 13155\n",
      "  4062  3924   903  1230  5070  1441  5049  9000  8479  4476   871 11246\n",
      "  7937  4495  7651  1741 11481  3311 12075  6836  2660 11649  1191  9319\n",
      "  6785  5110 15954  4197  7599 14588 14202  1380  8715  1371 12685   904\n",
      " 12141  2653  1520  4898 11983  5897 11091 11748  5880 10059  3036 10786\n",
      "  9209  4368 14474  2860  1750  3081  1925 10210  4330  6455  5238  4666\n",
      "  7575 12579  8712  5164 11391 10675  1459  8116 12833  2646  7347 13937\n",
      "  8236 14444  8280 12573  2801  2088     1     0     2]\n"
     ]
    }
   ],
   "source": [
    "# get features importance of all features from tfidf model\n",
    "features_importance = dt_tfidf_testModel.feature_importances_\n",
    "nonzero_features_importance = features_importance[features_importance > 0]\n",
    "# get indices of features with non-zero feature importance\n",
    "nonzero_features_importance_indices = np.argsort(features_importance)[len(nonzero_features_importance)*(-1):]\n",
    "print('No of non zero importance features:',len(nonzero_features_importance_indices))\n",
    "print('Non zero importance features indices:',nonzero_features_importance_indices)"
   ]
  },
  {
   "cell_type": "code",
   "execution_count": 70,
   "id": "dcb98ccb",
   "metadata": {},
   "outputs": [
    {
     "name": "stdout",
     "output_type": "stream",
     "text": [
      "(73167, 105)\n",
      "(36038, 105)\n"
     ]
    }
   ],
   "source": [
    "# selecting data of only non zero importance features from X_train_TFID & X_Test_TFIDF\n",
    "X_train_TFIDF_nonzero_imp = X_train_TFIDF[:,nonzero_features_importance_indices]\n",
    "X_Test_TFIDF_nonzero_imp = X_Test_TFIDF[:,nonzero_features_importance_indices]\n",
    "print(X_train_TFIDF_nonzero_imp.shape)\n",
    "print(X_Test_TFIDF_nonzero_imp.shape)"
   ]
  },
  {
   "cell_type": "markdown",
   "id": "4bf9cc9e",
   "metadata": {},
   "source": [
    "Apply DTC on train & test sets for non zero importance features"
   ]
  },
  {
   "cell_type": "markdown",
   "id": "737ad1b7",
   "metadata": {},
   "source": [
    "Finding best hyperparameters"
   ]
  },
  {
   "cell_type": "code",
   "execution_count": 71,
   "id": "a9e25077",
   "metadata": {},
   "outputs": [
    {
     "name": "stdout",
     "output_type": "stream",
     "text": [
      "Fitting 3 folds for each of 9 candidates, totalling 27 fits\n"
     ]
    },
    {
     "data": {
      "text/plain": [
       "GridSearchCV(cv=3, estimator=DecisionTreeClassifier(class_weight='balanced'),\n",
       "             n_jobs=-1,\n",
       "             param_grid={'max_depth': [5, 10, 50],\n",
       "                         'min_samples_split': [10, 100, 500]},\n",
       "             return_train_score=True, scoring='roc_auc', verbose=1)"
      ]
     },
     "execution_count": 71,
     "metadata": {},
     "output_type": "execute_result"
    }
   ],
   "source": [
    "grid_search_tfidf_nonzero_imp = GridSearchCV(dt, parameters, cv= 3, scoring='roc_auc',verbose=1,return_train_score=True,n_jobs=-1)\n",
    "grid_search_tfidf_nonzero_imp.fit(X_train_TFIDF_nonzero_imp,y_train)"
   ]
  },
  {
   "cell_type": "code",
   "execution_count": 72,
   "id": "4bad44ef",
   "metadata": {},
   "outputs": [
    {
     "name": "stdout",
     "output_type": "stream",
     "text": [
      "Best Max Depth: 10\n",
      "Best Min Samples Split: 500\n",
      "Best Score: 0.6943169844860858\n"
     ]
    }
   ],
   "source": [
    "print(\"Best Max Depth:\",grid_search_tfidf_nonzero_imp.best_params_['max_depth'])\n",
    "print(\"Best Min Samples Split:\",grid_search_tfidf_nonzero_imp.best_params_['min_samples_split'])\n",
    "print(\"Best Score:\",grid_search_tfidf_nonzero_imp.best_score_)"
   ]
  },
  {
   "cell_type": "markdown",
   "id": "c3ca97fe",
   "metadata": {},
   "source": [
    "Fit the model using best hyperparameters"
   ]
  },
  {
   "cell_type": "code",
   "execution_count": 73,
   "id": "bbd8df4c",
   "metadata": {},
   "outputs": [
    {
     "data": {
      "text/plain": [
       "DecisionTreeClassifier(class_weight='balanced', max_depth=10,\n",
       "                       min_samples_split=500)"
      ]
     },
     "execution_count": 73,
     "metadata": {},
     "output_type": "execute_result"
    }
   ],
   "source": [
    "# build & fit model using best parameters found by above hyper parameter tuning\n",
    "dt_tfidf_nonzero_imp_testModel = DecisionTreeClassifier(class_weight='balanced',\n",
    "                                          min_samples_split=grid_search_tfidf.best_params_['min_samples_split'],\n",
    "                                          max_depth=grid_search_tfidf.best_params_['max_depth']\n",
    "                                         )\n",
    "dt_tfidf_nonzero_imp_testModel.fit(X_train_TFIDF_nonzero_imp, y_train)"
   ]
  },
  {
   "cell_type": "markdown",
   "id": "f1f9fd3b",
   "metadata": {},
   "source": [
    "Get AUC Scores for train & test sets"
   ]
  },
  {
   "cell_type": "code",
   "execution_count": 74,
   "id": "f414901c",
   "metadata": {},
   "outputs": [
    {
     "name": "stdout",
     "output_type": "stream",
     "text": [
      "AUC Train score for non-zero imp features modeling in case 2: 0.7360461985864937\n",
      "AUC Test score for non-zero imp features modeling in case 2: 0.6788534303017919\n"
     ]
    }
   ],
   "source": [
    "# predicting probabilities for roc curve\n",
    "y_train_pred_prob_tfidf_nonzero_imp = dt_tfidf_nonzero_imp_testModel.predict_proba(X_train_TFIDF_nonzero_imp)[:,1]\n",
    "y_test_pred_prob_tfidf_nonzero_imp = dt_tfidf_nonzero_imp_testModel.predict_proba(X_Test_TFIDF_nonzero_imp)[:,1]\n",
    "\n",
    "train_fpr_tfidf_nonzero_imp, train_tpr_tfidf_nonzero_imp, train_thresholds_tfidf_nonzero_imp = roc_curve(y_train, y_train_pred_prob_tfidf_nonzero_imp)\n",
    "test_fpr_tfidf_nonzero_imp, test_tpr_tfidf_nonzero_imp, test_thresholds_tfidf_nonzero_imp = roc_curve(y_test, y_test_pred_prob_tfidf_nonzero_imp)\n",
    "\n",
    "auc_train_tfidf_nonzero_imp = auc(train_fpr_tfidf_nonzero_imp, train_tpr_tfidf_nonzero_imp)\n",
    "auc_test_tfidf_nonzero_imp = auc(test_fpr_tfidf_nonzero_imp, test_tpr_tfidf_nonzero_imp)\n",
    "\n",
    "print('AUC Train score for non-zero imp features modeling in case 2:',auc_train_tfidf_nonzero_imp)\n",
    "print('AUC Test score for non-zero imp features modeling in case 2:',auc_test_tfidf_nonzero_imp)"
   ]
  },
  {
   "cell_type": "markdown",
   "id": "5f86580c",
   "metadata": {},
   "source": [
    "Print collective summary of all 3 models in table "
   ]
  },
  {
   "cell_type": "code",
   "execution_count": 75,
   "id": "a761019f",
   "metadata": {},
   "outputs": [
    {
     "name": "stdout",
     "output_type": "stream",
     "text": [
      "+-------------------------------------+-------+---------------------------+--------------------+\n",
      "|              Vectorizer             | Model | Hyper parameter-max depth |      Test AUC      |\n",
      "+-------------------------------------+-------+---------------------------+--------------------+\n",
      "|                 BOW                 |  DTC  |             10            | 0.6815242330757815 |\n",
      "|                TF-IDF               |  DTC  |             10            | 0.6788534303017919 |\n",
      "| TF-IDF (Nonzero feature importance) |  DTC  |             10            | 0.6788534303017919 |\n",
      "+-------------------------------------+-------+---------------------------+--------------------+\n"
     ]
    }
   ],
   "source": [
    "models_summary = PrettyTable()\n",
    "\n",
    "models_summary.field_names = [\"Vectorizer\", \"Model\", \"Hyper parameter-max depth\", \"Test AUC\"]\n",
    "\n",
    "models_summary.add_row([\"BOW\", \"DTC\", grid_search_bow.best_params_['max_depth'], auc(test_fpr_bow, test_tpr_bow)])\n",
    "models_summary.add_row([\"TF-IDF\", \"DTC\", grid_search_tfidf.best_params_['max_depth'], auc(test_fpr_tfidf, test_tpr_tfidf)])\n",
    "models_summary.add_row([\"TF-IDF (Nonzero feature importance)\", \"DTC\", grid_search_tfidf_nonzero_imp.best_params_['max_depth'], auc_test_tfidf_nonzero_imp])\n",
    "\n",
    "print(models_summary)"
   ]
  },
  {
   "cell_type": "markdown",
   "id": "3e42aca7",
   "metadata": {},
   "source": [
    "Observations:\n",
    "1. Hyperparameters came out to be same for 3 models\n",
    "2. For the given dataset, using only non-zero importance features didn't make impact on Test AUC Score\n",
    "3. Model with Bag of words vectorization has best auc score, better than one with TFIDF vectorization on text features"
   ]
  }
 ],
 "metadata": {
  "kernelspec": {
   "display_name": "Python 3 (ipykernel)",
   "language": "python",
   "name": "python3"
  },
  "language_info": {
   "codemirror_mode": {
    "name": "ipython",
    "version": 3
   },
   "file_extension": ".py",
   "mimetype": "text/x-python",
   "name": "python",
   "nbconvert_exporter": "python",
   "pygments_lexer": "ipython3",
   "version": "3.10.7"
  }
 },
 "nbformat": 4,
 "nbformat_minor": 5
}
